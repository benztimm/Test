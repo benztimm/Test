{
 "cells": [
  {
   "cell_type": "code",
   "execution_count": 1,
   "id": "78c95991",
   "metadata": {},
   "outputs": [],
   "source": [
    "import numpy as np\n",
    "import matplotlib.pyplot as plt\n",
    "\n",
    "import qiskit\n",
    "from qiskit.quantum_info import Statevector, Operator\n",
    "from qiskit.visualization import plot_histogram, plot_bloch_multivector\n",
    "from qiskit import QuantumCircuit, assemble, Aer\n",
    "sim = Aer.get_backend('aer_simulator')"
   ]
  },
  {
   "cell_type": "code",
   "execution_count": 2,
   "id": "5bb6f50a",
   "metadata": {},
   "outputs": [
    {
     "data": {
      "text/plain": [
       "[AerSimulator('aer_simulator'),\n",
       " AerSimulator('aer_simulator_statevector'),\n",
       " AerSimulator('aer_simulator_density_matrix'),\n",
       " AerSimulator('aer_simulator_stabilizer'),\n",
       " AerSimulator('aer_simulator_matrix_product_state'),\n",
       " AerSimulator('aer_simulator_extended_stabilizer'),\n",
       " AerSimulator('aer_simulator_unitary'),\n",
       " AerSimulator('aer_simulator_superop'),\n",
       " QasmSimulator('qasm_simulator'),\n",
       " StatevectorSimulator('statevector_simulator'),\n",
       " UnitarySimulator('unitary_simulator'),\n",
       " PulseSimulator('pulse_simulator')]"
      ]
     },
     "execution_count": 2,
     "metadata": {},
     "output_type": "execute_result"
    }
   ],
   "source": [
    "Aer.backends()"
   ]
  },
  {
   "cell_type": "markdown",
   "id": "8dfcad89",
   "metadata": {},
   "source": [
    "# Lecture 2: A Single-Qubit System\n",
    "\n",
    "References\n",
    "1. [Introduction to Classical and Quantum Computing: Chapter 2](https://www.thomaswong.net/introduction-to-classical-and-quantum-computing-1e4p.pdf)"
   ]
  },
  {
   "cell_type": "markdown",
   "id": "57aaf376",
   "metadata": {},
   "source": [
    "## Where Were We?\n",
    "\n",
    "1. Last time: start of class.\n",
    "2. Today: introduce a single-qubit system which encodes quantum information.\n",
    "3. Next time: computations on a single-qubit system."
   ]
  },
  {
   "cell_type": "markdown",
   "id": "041cce11",
   "metadata": {},
   "source": [
    "## Goal\n",
    "\n",
    "1. Review some mathematical preliminaries including **complex numbers**.\n",
    "2. Introduce a single **qubit** system which encodes quantum information. A qubit will be defined in terms of complex numbers.\n",
    "3. Introduce idea of **superposition** and **measurement** and that stems from the underlying quantum representation."
   ]
  },
  {
   "cell_type": "markdown",
   "id": "d2fde796",
   "metadata": {},
   "source": [
    "## Mathematical Preliminaries\n",
    "\n",
    "A qubit can be expressed as a pair of complex numbers. Thus, we will introduce\n",
    "1. **complex numbers** (written $\\mathbb{C}$) and\n",
    "2. pairs of complex numbers (written $\\mathbb{C}^2$)\n",
    "in preparation to introduce the idea of a qubit."
   ]
  },
  {
   "cell_type": "markdown",
   "id": "6228259e",
   "metadata": {},
   "source": [
    "### Complex Numbers\n",
    "\n",
    "A complex number $z \\in \\mathbb{C}$ is a pair of real numbers $(a, b)$ typically written\n",
    "$$\n",
    "z = a + bj \\,.\n",
    "$$\n",
    "1. The number $a$ is called the *real* component.\n",
    "2. The number $b$ is called the *imaginary* component. The letter $j$ (or $i$ is notation of imaginary).\n",
    "\n",
    "An imaginary number is defined to be\n",
    "$$\n",
    "j = \\sqrt{-1} \\,.\n",
    "$$\n",
    "\n",
    "You will more traditionally in mathematics see the notation\n",
    "$$\n",
    "i = \\sqrt{-1} \\,.\n",
    "$$"
   ]
  },
  {
   "cell_type": "markdown",
   "id": "d704a943",
   "metadata": {},
   "source": [
    "#### Examples"
   ]
  },
  {
   "cell_type": "code",
   "execution_count": 3,
   "id": "a7d5f12f",
   "metadata": {},
   "outputs": [
    {
     "data": {
      "text/plain": [
       "((1+2j), 1.0, 2.0)"
      ]
     },
     "execution_count": 3,
     "metadata": {},
     "output_type": "execute_result"
    }
   ],
   "source": [
    "z1 = 1 + 2j\n",
    "z1, z1.real, z1.imag"
   ]
  },
  {
   "cell_type": "code",
   "execution_count": 4,
   "id": "6268e9a6",
   "metadata": {},
   "outputs": [
    {
     "data": {
      "text/plain": [
       "((0.3-0.2j), 0.3, -0.2)"
      ]
     },
     "execution_count": 4,
     "metadata": {},
     "output_type": "execute_result"
    }
   ],
   "source": [
    "z2 = .3 - .2j\n",
    "z2, z2.real, z2.imag"
   ]
  },
  {
   "cell_type": "code",
   "execution_count": 5,
   "id": "01245d8d",
   "metadata": {},
   "outputs": [
    {
     "data": {
      "text/plain": [
       "((-2.4+3.2j), -2.4, 3.2)"
      ]
     },
     "execution_count": 5,
     "metadata": {},
     "output_type": "execute_result"
    }
   ],
   "source": [
    "z3 = -2.4 + 3.2j\n",
    "z3, z3.real, z3.imag"
   ]
  },
  {
   "cell_type": "code",
   "execution_count": 6,
   "id": "27bcfbf7",
   "metadata": {},
   "outputs": [
    {
     "data": {
      "text/plain": [
       "((-1.4-1.2j), -1.4, -1.2)"
      ]
     },
     "execution_count": 6,
     "metadata": {},
     "output_type": "execute_result"
    }
   ],
   "source": [
    "z4 = -1.4 - 1.2j\n",
    "z4, z4.real, z4.imag"
   ]
  },
  {
   "cell_type": "code",
   "execution_count": 7,
   "id": "b2ec277f",
   "metadata": {},
   "outputs": [
    {
     "data": {
      "text/plain": [
       "((1+0j), 1.0, 0.0)"
      ]
     },
     "execution_count": 7,
     "metadata": {},
     "output_type": "execute_result"
    }
   ],
   "source": [
    "z5 = 1 + 0j  # Non-imaginary\n",
    "z5, z5.real, z5.imag"
   ]
  },
  {
   "cell_type": "code",
   "execution_count": 8,
   "id": "9c5c7a6b",
   "metadata": {},
   "outputs": [
    {
     "data": {
      "text/plain": [
       "(1j, 0.0, 1.0)"
      ]
     },
     "execution_count": 8,
     "metadata": {},
     "output_type": "execute_result"
    }
   ],
   "source": [
    "z6 = 0 + 1j  # Fully-imaginary\n",
    "z6, z6.real, z6.imag"
   ]
  },
  {
   "cell_type": "markdown",
   "id": "c5c81aec",
   "metadata": {},
   "source": [
    "#### Imaginary Plane\n",
    "\n",
    "A complex number can be represented as a point in the **complex plane**."
   ]
  },
  {
   "cell_type": "code",
   "execution_count": 9,
   "id": "86834a56",
   "metadata": {},
   "outputs": [
    {
     "data": {
      "text/plain": [
       "Text(0.5, 1.0, 'Imaginary Plane')"
      ]
     },
     "execution_count": 9,
     "metadata": {},
     "output_type": "execute_result"
    },
    {
     "data": {
      "image/png": "[encoded data removed]",
      "text/plain": [
       "<Figure size 432x288 with 1 Axes>"
      ]
     },
     "metadata": {
      "needs_background": "light"
     },
     "output_type": "display_data"
    }
   ],
   "source": [
    "fig = plt.figure(); ax = fig.add_subplot()\n",
    "ax.set_aspect(1.0/ax.get_data_ratio(), adjustable='box')\n",
    "\n",
    "# Complex Numbers\n",
    "zs = [z1, z2, z3, z4, z5, z6]\n",
    "plt.plot([z.real for z in zs], [z.imag for z in zs], marker='o', linestyle='none')\n",
    "\n",
    "# Plot meta-data\n",
    "plt.axhline(y=0.0, color='r', linestyle='-'); plt.axvline(x=0.0, color='r', linestyle='-')\n",
    "plt.xlabel('Real'); plt.ylabel('Imaginary'); plt.title('Imaginary Plane')"
   ]
  },
  {
   "cell_type": "markdown",
   "id": "b94a576d",
   "metadata": {},
   "source": [
    "#### Arithmetic on complex numbers\n",
    "\n",
    "We can perform operations on complex numbers:\n",
    "1. Addition: $(a + bj) + (c + dj) = (a + c) + (b + d)j$.\n",
    "2. Negation: $-(a + bj) = (-a) + (-b)j$.\n",
    "3. Multiplication: $(a + bj) \\cdot (c + dj) = (ac - bd) + (ad + bc)j$.\n",
    "4. Inverse: $1/(a + bj) = a/(a^2 + b^2) + (-b/(a^2 + b^2))j$."
   ]
  },
  {
   "cell_type": "markdown",
   "id": "a75090bf",
   "metadata": {},
   "source": [
    "##### Test it Out"
   ]
  },
  {
   "cell_type": "code",
   "execution_count": 10,
   "id": "965bdcbf",
   "metadata": {},
   "outputs": [
    {
     "data": {
      "text/plain": [
       "((1.3+1.8j), (1.3+1.8j))"
      ]
     },
     "execution_count": 10,
     "metadata": {},
     "output_type": "execute_result"
    }
   ],
   "source": [
    "z1 = (1 + 2j)\n",
    "z2 = (.3 - .2j)\n",
    "z1 + z2, z1.real + z2.real + (z1.imag + z2.imag)*1j"
   ]
  },
  {
   "cell_type": "code",
   "execution_count": 11,
   "id": "e48ed9f1",
   "metadata": {},
   "outputs": [
    {
     "data": {
      "text/plain": [
       "((-1-2j), (-1-2j))"
      ]
     },
     "execution_count": 11,
     "metadata": {},
     "output_type": "execute_result"
    }
   ],
   "source": [
    "z1 = (1 + 2j)\n",
    "-z1, -z1.real + (-z1.imag)*1j"
   ]
  },
  {
   "cell_type": "code",
   "execution_count": 12,
   "id": "775a15b3",
   "metadata": {},
   "outputs": [
    {
     "data": {
      "text/plain": [
       "((0.7+2.2j), (0.7+2.2j))"
      ]
     },
     "execution_count": 12,
     "metadata": {},
     "output_type": "execute_result"
    }
   ],
   "source": [
    "# Subtraction is addition of negation\n",
    "z1 = (1 + 2j)\n",
    "z2 = (.3 - .2j)\n",
    "z1 - z2, z1.real - z2.real + (z1.imag - z2.imag)*1j"
   ]
  },
  {
   "cell_type": "code",
   "execution_count": 13,
   "id": "5cc5d697",
   "metadata": {},
   "outputs": [
    {
     "data": {
      "text/plain": [
       "(7.199999999999999-1.5999999999999996j)"
      ]
     },
     "execution_count": 13,
     "metadata": {},
     "output_type": "execute_result"
    }
   ],
   "source": [
    "z3 = -2.4 + 3.2j\n",
    "z4 = -1.4 - 1.2j\n",
    "z3 * z4"
   ]
  },
  {
   "cell_type": "code",
   "execution_count": 14,
   "id": "e011530a",
   "metadata": {},
   "outputs": [
    {
     "data": {
      "text/plain": [
       "(2.3076923076923075+1.5384615384615385j)"
      ]
     },
     "execution_count": 14,
     "metadata": {},
     "output_type": "execute_result"
    }
   ],
   "source": [
    "z2 = (.3 - .2j)\n",
    "1 / z2"
   ]
  },
  {
   "cell_type": "markdown",
   "id": "a3e277ad",
   "metadata": {},
   "source": [
    "#### Magnitude\n",
    "\n",
    "The magnitude of a complex number is given by\n",
    "\n",
    "$$\n",
    "|a + bj| = \\sqrt{a^2 + b^2} \\,.\n",
    "$$"
   ]
  },
  {
   "cell_type": "code",
   "execution_count": 15,
   "id": "7dae1e83",
   "metadata": {},
   "outputs": [
    {
     "data": {
      "text/plain": [
       "(2.23606797749979, 2.23606797749979)"
      ]
     },
     "execution_count": 15,
     "metadata": {},
     "output_type": "execute_result"
    }
   ],
   "source": [
    "z1 = (1 + 2j)\n",
    "np.abs(z1), np.sqrt(z1.real**2 + z1.imag**2)"
   ]
  },
  {
   "cell_type": "code",
   "execution_count": 16,
   "id": "eab61a9c",
   "metadata": {},
   "outputs": [
    {
     "data": {
      "text/plain": [
       "(0.36055512754639896, 0.36055512754639896)"
      ]
     },
     "execution_count": 16,
     "metadata": {},
     "output_type": "execute_result"
    }
   ],
   "source": [
    "z2 = (.3 - .2j)\n",
    "np.abs(z2), np.sqrt(z2.real**2 + z2.imag**2)"
   ]
  },
  {
   "cell_type": "markdown",
   "id": "f781cfb5",
   "metadata": {},
   "source": [
    "#### Complex Conjugation\n",
    "\n",
    "The **complex conjugate** of a complex number is given by\n",
    "$$\n",
    "\\overline{a + bj} = a - bj\\,.\n",
    "$$"
   ]
  },
  {
   "cell_type": "code",
   "execution_count": 17,
   "id": "960cf6a7",
   "metadata": {},
   "outputs": [
    {
     "data": {
      "text/plain": [
       "(1-2j)"
      ]
     },
     "execution_count": 17,
     "metadata": {},
     "output_type": "execute_result"
    }
   ],
   "source": [
    "z1 = (1 + 2j)\n",
    "np.conjugate(z1)"
   ]
  },
  {
   "cell_type": "code",
   "execution_count": 18,
   "id": "075d855d",
   "metadata": {},
   "outputs": [
    {
     "data": {
      "text/plain": [
       "(0.3+0.2j)"
      ]
     },
     "execution_count": 18,
     "metadata": {},
     "output_type": "execute_result"
    }
   ],
   "source": [
    "z2 = (.3 - .2j)\n",
    "np.conjugate(z2)"
   ]
  },
  {
   "cell_type": "markdown",
   "id": "ccc8b5a7",
   "metadata": {},
   "source": [
    "##### Geometric Intuition\n",
    "\n",
    "1. Every operation on a complex number can be visualized in the complex plane.\n",
    "2. For example, the complex conjugate of a number is a reflection over the real axis in the complex plane. Exercise: what is the geometric operation corresponding to negation?"
   ]
  },
  {
   "cell_type": "code",
   "execution_count": 19,
   "id": "79c3ba8b",
   "metadata": {},
   "outputs": [
    {
     "data": {
      "text/plain": [
       "Text(0.5, 1.0, 'Imaginary Plane')"
      ]
     },
     "execution_count": 19,
     "metadata": {},
     "output_type": "execute_result"
    },
    {
     "data": {
      "image/png": "[encoded data removed]",
      "text/plain": [
       "<Figure size 432x288 with 1 Axes>"
      ]
     },
     "metadata": {
      "needs_background": "light"
     },
     "output_type": "display_data"
    }
   ],
   "source": [
    "fig = plt.figure(); ax = fig.add_subplot()\n",
    "ax.set_aspect(1.0/ax.get_data_ratio(), adjustable='box')\n",
    "\n",
    "# Complex Numbers\n",
    "zs = [z1, np.conjugate(z1), z2, np.conjugate(z2)]; txt = [\"z1\", \"$\\overline{z1}$\", \"z2\", \"$\\overline{z2}$\"]\n",
    "plt.scatter([z.real for z in zs], [z.imag for z in zs])\n",
    "for i, t in enumerate(txt):\n",
    "    plt.annotate(t, (zs[i].real, zs[i].imag))\n",
    "\n",
    "# Plot meta-data\n",
    "plt.axhline(y=0.0, color='r', linestyle='-'); plt.axvline(x=0.0, color='r', linestyle='-')\n",
    "plt.xlabel('Real'); plt.ylabel('Imaginary'); plt.title('Imaginary Plane')"
   ]
  },
  {
   "cell_type": "markdown",
   "id": "3f32cb28",
   "metadata": {},
   "source": [
    "### Pairs of Complex Numbers\n",
    "\n",
    "We will now introduce pairs of complex numbers $\\mathbb{C}^2$. We will write a pair of complex numbers using the notation\n",
    "$$\n",
    "\\begin{pmatrix}\n",
    "a \\\\\n",
    "b \\\\\n",
    "\\end{pmatrix} \\in \\mathbb{C}^2\n",
    "$$\n",
    "where $a, b \\in \\mathbb{C}$ are complex numbers. We will see later that this is a **vector space**."
   ]
  },
  {
   "cell_type": "code",
   "execution_count": 20,
   "id": "6eae5b08",
   "metadata": {},
   "outputs": [
    {
     "data": {
      "text/plain": [
       "((1+2j), (0.3-0.2j), array([1. +2.j , 0.3-0.2j]))"
      ]
     },
     "execution_count": 20,
     "metadata": {},
     "output_type": "execute_result"
    }
   ],
   "source": [
    "p1 = np.array([z1, z2])\n",
    "z1, z2, p1"
   ]
  },
  {
   "cell_type": "code",
   "execution_count": 21,
   "id": "1e075f7a",
   "metadata": {},
   "outputs": [
    {
     "data": {
      "text/plain": [
       "((-2.4+3.2j), (-1.4-1.2j), array([-2.4+3.2j, -1.4-1.2j]))"
      ]
     },
     "execution_count": 21,
     "metadata": {},
     "output_type": "execute_result"
    }
   ],
   "source": [
    "p2 = np.array([z3, z4])\n",
    "z3, z4, p2"
   ]
  },
  {
   "cell_type": "markdown",
   "id": "9f6bd5f5",
   "metadata": {},
   "source": [
    "#### Arithmetic on Complex Pairs\n",
    "\n",
    "We can perform operations on pairs of complex number:\n",
    "1. Addition: \n",
    "$$\n",
    "\\begin{pmatrix}\n",
    "a \\\\\n",
    "b \n",
    "\\end{pmatrix} + \n",
    "\\begin{pmatrix}\n",
    "c \\\\\n",
    "d \n",
    "\\end{pmatrix} = \\begin{pmatrix}\n",
    "a + c \\\\\n",
    "b + d\n",
    "\\end{pmatrix}\n",
    "$$\n",
    "2. Multiplication:\n",
    "$$\n",
    "r\\begin{pmatrix}\n",
    "a \\\\\n",
    "b \n",
    "\\end{pmatrix} = \\begin{pmatrix}\n",
    "ra \\\\\n",
    "rb\n",
    "\\end{pmatrix}\n",
    "$$\n",
    "where $r \\in \\mathbb{C}$."
   ]
  },
  {
   "cell_type": "code",
   "execution_count": 22,
   "id": "267b5145",
   "metadata": {},
   "outputs": [
    {
     "data": {
      "text/plain": [
       "(array([1. +2.j , 0.3-0.2j]),\n",
       " array([-2.4+3.2j, -1.4-1.2j]),\n",
       " array([-1.4+5.2j, -1.1-1.4j]))"
      ]
     },
     "execution_count": 22,
     "metadata": {},
     "output_type": "execute_result"
    }
   ],
   "source": [
    "p1, p2, p1 + p2"
   ]
  },
  {
   "cell_type": "code",
   "execution_count": 23,
   "id": "0cb64042",
   "metadata": {},
   "outputs": [
    {
     "data": {
      "text/plain": [
       "(array([1. +2.j , 0.3-0.2j]), array([-1. -2.j , -0.3+0.2j]))"
      ]
     },
     "execution_count": 23,
     "metadata": {},
     "output_type": "execute_result"
    }
   ],
   "source": [
    "p1, -1 * p1"
   ]
  },
  {
   "cell_type": "markdown",
   "id": "18c3bf42",
   "metadata": {},
   "source": [
    "## A Qubit\n",
    "\n",
    "A qubit is defined in terms of pairs of complex numbers\n",
    "\n",
    "$$\n",
    "|q\\rangle = \\{ \\begin{pmatrix} a \\\\ b \\end{pmatrix} \\in \\mathbb{C}^2, \\sqrt{a\\bar{a} + b\\bar{b}} = 1\\} \\,.\n",
    "$$"
   ]
  },
  {
   "cell_type": "markdown",
   "id": "8670e9bf",
   "metadata": {},
   "source": [
    "### Quantum analogues of zero and one bit\n",
    "\n",
    "$$\n",
    "|0\\rangle = \\begin{pmatrix}\n",
    "1 \\\\\n",
    "0 \\\\\n",
    "\\end{pmatrix}\n",
    "$$\n",
    "and \n",
    "$$\n",
    "|1\\rangle = \\begin{pmatrix}\n",
    "0 \\\\\n",
    "1 \\\\\n",
    "\\end{pmatrix}\n",
    "$$\n",
    "are **qubits**."
   ]
  },
  {
   "cell_type": "code",
   "execution_count": 24,
   "id": "82a68d62",
   "metadata": {},
   "outputs": [
    {
     "data": {
      "text/plain": [
       "(array([1.+0.j, 0.+0.j]), (1+0j))"
      ]
     },
     "execution_count": 24,
     "metadata": {},
     "output_type": "execute_result"
    }
   ],
   "source": [
    "def qubit_condition(q):\n",
    "    return q[0]*np.conjugate(q[0]) + q[1]*np.conjugate(q[1])\n",
    "\n",
    "zero = np.array([1.0 + 0j, 0j])  # 0 qubit\n",
    "zero, qubit_condition(zero)"
   ]
  },
  {
   "cell_type": "code",
   "execution_count": 25,
   "id": "2e6f4802",
   "metadata": {},
   "outputs": [
    {
     "data": {
      "text/plain": [
       "(array([1.+0.j, 0.+0.j]), (1+0j))"
      ]
     },
     "execution_count": 25,
     "metadata": {},
     "output_type": "execute_result"
    }
   ],
   "source": [
    "one = np.array([0j, 1.0 + 0j])   # 1 qubit\n",
    "zero, qubit_condition(one)"
   ]
  },
  {
   "cell_type": "markdown",
   "id": "af4f6499",
   "metadata": {},
   "source": [
    "### Other Qubits?"
   ]
  },
  {
   "cell_type": "code",
   "execution_count": 26,
   "id": "83560db5",
   "metadata": {},
   "outputs": [
    {
     "data": {
      "text/plain": [
       "(array([0.70710678, 0.70710678]), 0.9999999999999998)"
      ]
     },
     "execution_count": 26,
     "metadata": {},
     "output_type": "execute_result"
    }
   ],
   "source": [
    "q = np.array([1/np.sqrt(2), 1/np.sqrt(2)])\n",
    "q, qubit_condition(q)"
   ]
  },
  {
   "cell_type": "markdown",
   "id": "ff4778e5",
   "metadata": {},
   "source": [
    "### Fact\n",
    "\n",
    "Every qubit $|q\\rangle$ can be written as\n",
    "$$\n",
    "|q\\rangle = \\alpha|0\\rangle + \\beta |1\\rangle\n",
    "$$\n",
    "where $\\alpha, \\beta \\in \\mathbb{C}$ and $|\\alpha|^2 + |\\beta|^2 = 1$."
   ]
  },
  {
   "cell_type": "code",
   "execution_count": 27,
   "id": "73216743",
   "metadata": {},
   "outputs": [
    {
     "data": {
      "text/plain": [
       "(array([0.70710678, 0.70710678]), array([0.70710678+0.j, 0.70710678+0.j]))"
      ]
     },
     "execution_count": 27,
     "metadata": {},
     "output_type": "execute_result"
    }
   ],
   "source": [
    "q_p = 1/np.sqrt(2)*zero + 1/np.sqrt(2)*one\n",
    "q, q_p"
   ]
  },
  {
   "cell_type": "code",
   "execution_count": 28,
   "id": "06892506",
   "metadata": {},
   "outputs": [
    {
     "data": {
      "text/plain": [
       "(array([0.57735027+0.j, 0.81649658+0.j]), (1+0j))"
      ]
     },
     "execution_count": 28,
     "metadata": {},
     "output_type": "execute_result"
    }
   ],
   "source": [
    "q2 = np.sqrt(1/3)*zero + np.sqrt(2/3)*one\n",
    "q2, qubit_condition(q2)"
   ]
  },
  {
   "cell_type": "code",
   "execution_count": 29,
   "id": "c5d63d9e",
   "metadata": {},
   "outputs": [
    {
     "data": {
      "text/plain": [
       "(array([0.40824829-0.40824829j, 0.57735027+0.57735027j]), (1+0j))"
      ]
     },
     "execution_count": 29,
     "metadata": {},
     "output_type": "execute_result"
    }
   ],
   "source": [
    "q3 = np.sqrt(-1/3*1j)*zero + np.sqrt(2/3*1j)*one\n",
    "q3, qubit_condition(q2)"
   ]
  },
  {
   "cell_type": "markdown",
   "id": "40de09d6",
   "metadata": {},
   "source": [
    "### Quantum Concept: Superposition\n",
    "\n",
    "1. The qubits above are not a zero or a one.\n",
    "2. Instead, they are said to be in a **superposition** of zero and one.\n",
    "3. In this way, we can say that a qubit carries different information from a single classical bit.\n",
    "4. However, what do these amplitudes mean?"
   ]
  },
  {
   "cell_type": "markdown",
   "id": "11cd0fd3",
   "metadata": {},
   "source": [
    "### Quantum Concept: Measurement\n",
    "\n",
    "1. In order to observe a qubit, we must **measure** it.\n",
    "2. Measurement is an operation that destroys superposition and returns either $|0\\rangle$ or $|1\\rangle$.\n",
    "3. The probability of obtaining $|0\\rangle$ or $|1\\rangle$ is given by **Born's rule**, which states that we obtain\n",
    "  - $|0\\rangle$ with probability $|\\alpha|^2$ and\n",
    "  - $|1\\rangle$ with probability $|\\beta|^2$.\n",
    "\n",
    "This is why we require that $|\\alpha\\rangle^2 + |\\beta\\rangle^2 = 1$."
   ]
  },
  {
   "cell_type": "code",
   "execution_count": 30,
   "id": "54898686",
   "metadata": {},
   "outputs": [
    {
     "name": "stdout",
     "output_type": "stream",
     "text": [
      "[0.70710678 0.70710678]\n"
     ]
    },
    {
     "data": {
      "image/png": "[encoded data removed]",
      "text/plain": [
       "<Figure size 504x360 with 1 Axes>"
      ]
     },
     "execution_count": 30,
     "metadata": {},
     "output_type": "execute_result"
    }
   ],
   "source": [
    "def demonstrate_measure(q):\n",
    "    # Don't worry about this code for now\n",
    "    qc = QuantumCircuit(1, 1)\n",
    "    qc.initialize(q, 0)        \n",
    "    qc.measure(0, 0)\n",
    "    qobj = assemble(qc)\n",
    "    results = sim.run(qobj, shots=1024).result()\n",
    "    answer = results.get_counts()\n",
    "    return plot_histogram(answer)\n",
    "\n",
    "print(q)\n",
    "demonstrate_measure(q)"
   ]
  },
  {
   "cell_type": "code",
   "execution_count": 31,
   "id": "f4d4694a",
   "metadata": {},
   "outputs": [
    {
     "name": "stdout",
     "output_type": "stream",
     "text": [
      "[0.57735027+0.j 0.81649658+0.j]\n"
     ]
    },
    {
     "data": {
      "image/png": "[encoded data removed]",
      "text/plain": [
       "<Figure size 504x360 with 1 Axes>"
      ]
     },
     "execution_count": 31,
     "metadata": {},
     "output_type": "execute_result"
    }
   ],
   "source": [
    "print(q2)\n",
    "demonstrate_measure(q2)"
   ]
  },
  {
   "cell_type": "code",
   "execution_count": 34,
   "id": "2ba6b331",
   "metadata": {},
   "outputs": [
    {
     "name": "stdout",
     "output_type": "stream",
     "text": [
      "[0.40824829-0.40824829j 0.57735027+0.57735027j]\n"
     ]
    },
    {
     "data": {
      "image/png": "[encoded data removed]",
      "text/plain": [
       "<Figure size 504x360 with 1 Axes>"
      ]
     },
     "execution_count": 34,
     "metadata": {},
     "output_type": "execute_result"
    }
   ],
   "source": [
    "print(q3)\n",
    "demonstrate_measure(q3)"
   ]
  },
  {
   "cell_type": "markdown",
   "id": "e0ae4aa5",
   "metadata": {},
   "source": [
    "## Summary\n",
    "\n",
    "1. We looked at single-qubit systems. Qubits are the classical analogue of bits.\n",
    "2. Unlike a classical bit, a qubit can be in a superposition of states.\n",
    "3. To observe the state of a qubit, we must measure it, which stochastically produces a classical result.\n",
    "4. Next time we'll look at operations on a single qubit."
   ]
  },
  {
   "cell_type": "code",
   "execution_count": null,
   "id": "7937e01a",
   "metadata": {},
   "outputs": [],
   "source": []
  }
 ],
 "metadata": {
  "kernelspec": {
   "display_name": "Python 3 (ipykernel)",
   "language": "python",
   "name": "python3"
  },
  "language_info": {
   "codemirror_mode": {
    "name": "ipython",
    "version": 3
   },
   "file_extension": ".py",
   "mimetype": "text/x-python",
   "name": "python",
   "nbconvert_exporter": "python",
   "pygments_lexer": "ipython3",
   "version": "3.9.6"
  }
 },
 "nbformat": 4,
 "nbformat_minor": 5
}
