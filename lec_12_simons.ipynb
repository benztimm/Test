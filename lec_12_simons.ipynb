{
 "cells": [
  {
   "cell_type": "code",
   "execution_count": 1,
   "id": "2367a0f2",
   "metadata": {},
   "outputs": [],
   "source": [
    "from typing import *\n",
    "import time\n",
    "import random\n",
    "import numpy as np\n",
    "import matplotlib.pyplot as plt\n",
    "\n",
    "import qiskit\n",
    "from qiskit.quantum_info import Statevector, Operator\n",
    "from qiskit.visualization import plot_histogram, plot_bloch_multivector, plot_histogram\n",
    "from qiskit import QuantumCircuit, assemble, Aer\n",
    "sim = Aer.get_backend('aer_simulator')\n",
    "\n",
    "zero = Statevector([1.0 + 0j, 0j])  # 0 qubit\n",
    "one = Statevector([0j, 1.0 + 0j])   # 1 qubit\n",
    "\n",
    "def enum_bits(n):\n",
    "    if n == 1:\n",
    "        return [[False], [True]]\n",
    "    else:\n",
    "        acc = []\n",
    "        for x in enum_bits(n-1):\n",
    "            acc += [[False] + x]\n",
    "            acc += [[True] + x]\n",
    "        return acc"
   ]
  },
  {
   "cell_type": "markdown",
   "id": "47319cb2",
   "metadata": {},
   "source": [
    "## Lecture 12: Simon's Algorithm\n",
    "\n",
    "References\n",
    "1. [Introduction to Classical and Quantum Computing: Chapter 7](https://www.thomaswong.net/introduction-to-classical-and-quantum-computing-1e4p.pdf)\n",
    "2. [https://qiskit.org/textbook/ch-algorithms/simon.html](https://qiskit.org/textbook/ch-algorithms/simon.html)"
   ]
  },
  {
   "cell_type": "markdown",
   "id": "f14d91bd",
   "metadata": {},
   "source": [
    "## Where Were We?\n",
    "\n",
    "1. Last time: introduced our first quantum algorithm, the Deutsch-Jozsa Algorithm.\n",
    "2. Today: introduce a non-trivial quantum algorithm, Simon's algorithm.\n",
    "3. Next time: midterm"
   ]
  },
  {
   "cell_type": "markdown",
   "id": "b7b5633e",
   "metadata": {},
   "source": [
    "## Algorithm Roadmap\n",
    "\n",
    "1. Deutsch-Jozsa: first quantum algorithm to demonstrate exponential speedup compared to deterministic classical algorithm.\n",
    "2. **Simon's Algorithm**: first quantum algorithm to demonstrate exponential speedup compared to classical probabilistic algorithm.\n",
    "3. Grover's Search: blackbox quantum speedup.\n",
    "\n",
    "Shor's algorithm\n",
    "1. Quantum Fourier Transform: building block for Shor's algorithm.\n",
    "2. Quantum Phase Estimation: building block for Shor's algorithm.\n",
    "3. Shor's Algorithm: can efficiently crack public-key cryptography."
   ]
  },
  {
   "cell_type": "markdown",
   "id": "07e1d4c9",
   "metadata": {},
   "source": [
    "## Simon's Problem\n",
    "\n",
    "1. Before we can give Simon's algorithm, we should introduce the problem that it is solving.\n",
    "2. Simon's algorithm was the first quantum algorithm that demonstrated exponential speedup compared to a classical probabilistic algorithm."
   ]
  },
  {
   "cell_type": "markdown",
   "id": "4eb8f114",
   "metadata": {},
   "source": [
    "### One-to-one function\n",
    "\n",
    "A function $f: \\{0, 1\\}^n \\rightarrow \\{0, 1\\}^n$ is **one-to-one** if \n",
    "$$\n",
    "f(x) = f(y)\n",
    "$$\n",
    "iff $x = y$, i.e., it maps unique bitstrings to unique bitstrings."
   ]
  },
  {
   "cell_type": "code",
   "execution_count": 2,
   "id": "b97c5f4c",
   "metadata": {},
   "outputs": [
    {
     "name": "stdout",
     "output_type": "stream",
     "text": [
      "[True, True]\n",
      "[True, False]\n",
      "[False, True]\n",
      "[False, False]\n"
     ]
    }
   ],
   "source": [
    "# one-to-one\n",
    "def neg_all(x: list[bool]) -> list[bool]:\n",
    "    return [not b for b in x]\n",
    "\n",
    "print(neg_all([False, False]))\n",
    "print(neg_all([False, True]))\n",
    "print(neg_all([True, False]))\n",
    "print(neg_all([True, True]))"
   ]
  },
  {
   "cell_type": "code",
   "execution_count": 3,
   "id": "4b2fe95e",
   "metadata": {},
   "outputs": [
    {
     "name": "stdout",
     "output_type": "stream",
     "text": [
      "[False, False]\n",
      "[True, False]\n",
      "[False, False]\n",
      "[True, True]\n"
     ]
    }
   ],
   "source": [
    "# not one-to-one\n",
    "def f(x: list[bool]) -> list[bool]:\n",
    "    return [x[len(x)-1]] + [x[i] and x[i+1] for i in range(len(x)-1)]\n",
    "\n",
    "print(f([False, False])) # <- non-unique\n",
    "print(f([False, True]))\n",
    "print(f([True, False]))  # <- non-unique\n",
    "print(f([True, True]))"
   ]
  },
  {
   "cell_type": "markdown",
   "id": "e222e9e4",
   "metadata": {},
   "source": [
    "### Two-to-one function\n",
    "\n",
    "A function $f: \\{0, 1\\}^n \\rightarrow \\{0, 1\\}^n$ is **two-to-one** if for every unique output $z$,\n",
    "$$\n",
    "z = f(x) = f(y)\n",
    "$$\n",
    "for exactly two $x \\neq y$, i.e., it maps each pair of unique bit-strings to the same output."
   ]
  },
  {
   "cell_type": "markdown",
   "id": "67367ea7",
   "metadata": {},
   "source": [
    "1. Equivalently, let $b \\in \\{0, 1\\}^n \\neq 0$ be a bit string. Then $f$ is two-to-one if $f(x) = f(y)$ iff $y = x \\oplus b$.\n",
    "2. Note that $b = 0\\dots0$ corresponds to the case that f is a one-to-one function."
   ]
  },
  {
   "cell_type": "code",
   "execution_count": 4,
   "id": "e9f1c623",
   "metadata": {},
   "outputs": [],
   "source": [
    "def mk_two2one_nbit(n) -> list[bool]:\n",
    "    b = [True] + [random.choice([True, False]) for i in range(n-1)]\n",
    "    xs = enum_bits(len(b))\n",
    "    out = enum_bits(len(b)); random.shuffle(out); i = 0\n",
    "    mapping = {}; seen = set()\n",
    "    for x in xs:\n",
    "        y = [c != d for c, d in zip(x, b)]\n",
    "        sx = str(x); sy = str(y);\n",
    "        if sx in seen or sy in seen:\n",
    "            continue\n",
    "        mapping[sx] = out[i]; mapping[sy] = out[i]; i += 1\n",
    "        seen.add(sx); seen.add(sy)\n",
    "    \n",
    "    return lambda x: mapping[str(x)]"
   ]
  },
  {
   "cell_type": "code",
   "execution_count": 5,
   "id": "5d8c1192",
   "metadata": {},
   "outputs": [
    {
     "name": "stdout",
     "output_type": "stream",
     "text": [
      "[True, True]\n",
      "[False, False]\n",
      "[False, False]\n",
      "[True, True]\n"
     ]
    }
   ],
   "source": [
    "g2 = mk_two2one_nbit(2)\n",
    "print(g2([False, False]))\n",
    "print(g2([False, True]))\n",
    "print(g2([True, False]))\n",
    "print(g2([True, True]))"
   ]
  },
  {
   "cell_type": "code",
   "execution_count": 6,
   "id": "5f25c8f1",
   "metadata": {},
   "outputs": [
    {
     "name": "stdout",
     "output_type": "stream",
     "text": [
      "[False, True, True]\n",
      "[True, False, True]\n",
      "[False, True, False]\n",
      "[False, False, False]\n",
      "[False, False, False]\n",
      "[False, True, False]\n",
      "[True, False, True]\n",
      "[False, True, True]\n"
     ]
    }
   ],
   "source": [
    "g3 = mk_two2one_nbit(3)\n",
    "for b in enum_bits(3):\n",
    "    print(g3(b))"
   ]
  },
  {
   "cell_type": "markdown",
   "id": "6770ff1f",
   "metadata": {},
   "source": [
    "### Problem Definition\n",
    "\n",
    "Simon's problem is: given a function on bitstrings\n",
    "$$\n",
    "f : \\{0, 1\\}^n \\rightarrow \\{0, 1\\}^n\n",
    "$$\n",
    "is either\n",
    "1. one-to-one function or\n",
    "2. a two-to-one function,\n",
    "determine which it is.\n",
    "\n",
    "Equivalently, given a hidden bit string $b$, determine if $b$ is all 0s or not."
   ]
  },
  {
   "cell_type": "markdown",
   "id": "254844d9",
   "metadata": {},
   "source": [
    "## Classical Solution to Simon's Problem\n",
    "\n",
    "1. Intuitively, the simplest thing we can do is to check every input and see if we get a one-to-one function or a two-to-one function.\n",
    "2. We actually \"only\" need to check one more than half of the inputs since we're dealing with two-to-one functions."
   ]
  },
  {
   "cell_type": "code",
   "execution_count": 7,
   "id": "492c394f",
   "metadata": {},
   "outputs": [],
   "source": [
    "def solve_simons(nbits: int, f: Callable[list[bool], list[bool]]) -> str:\n",
    "    seen = set()\n",
    "    inputs = enum_bits(nbits)\n",
    "    count = 0\n",
    "    for b in inputs:\n",
    "        # We only need to check half the inputs\n",
    "        if count >= len(inputs)/2 + 1:\n",
    "            break\n",
    "        count += 1\n",
    "        \n",
    "        # Keep track of what we have seen\n",
    "        y = str(f(b))\n",
    "        if y in seen:\n",
    "            return \"two-to-one\"\n",
    "        seen.add(y)\n",
    "    return \"one-to-one\""
   ]
  },
  {
   "cell_type": "code",
   "execution_count": 8,
   "id": "4142493f",
   "metadata": {},
   "outputs": [
    {
     "data": {
      "text/plain": [
       "'one-to-one'"
      ]
     },
     "execution_count": 8,
     "metadata": {},
     "output_type": "execute_result"
    }
   ],
   "source": [
    "solve_simons(3, neg_all)"
   ]
  },
  {
   "cell_type": "code",
   "execution_count": 9,
   "id": "d84e4eef",
   "metadata": {},
   "outputs": [
    {
     "data": {
      "text/plain": [
       "Text(0.5, 1.0, 'Running Time of Classical Algorithm')"
      ]
     },
     "execution_count": 9,
     "metadata": {},
     "output_type": "execute_result"
    },
    {
     "data": {
      "image/png": "[encoded data removed]",
      "text/plain": [
       "<Figure size 432x288 with 1 Axes>"
      ]
     },
     "metadata": {
      "needs_background": "light"
     },
     "output_type": "display_data"
    }
   ],
   "source": [
    "ns = range(4, 18)\n",
    "times = []\n",
    "for n in ns:\n",
    "    start = time.time()\n",
    "    gn = mk_two2one_nbit(n)\n",
    "    solve_simons(n, gn)\n",
    "    times += [time.time() - start]\n",
    "plt.plot(ns, times)\n",
    "plt.xlabel('Number of bits'); plt.ylabel('Time (sec)'); plt.title('Running Time of Classical Algorithm')"
   ]
  },
  {
   "cell_type": "markdown",
   "id": "54b48b9b",
   "metadata": {},
   "source": [
    "### Aside: Probabilistic Solution to Simon's Problem\n",
    "\n",
    "1. What if we allowed for some error?\n",
    "2. Unlike the Deutsch-Jozsa Problem, it is still hard for us to get a speedup."
   ]
  },
  {
   "cell_type": "markdown",
   "id": "ad8c244a",
   "metadata": {},
   "source": [
    "#### Why?\n",
    "\n",
    "1. Intuitively, still need to check half the bit-strings (in the worst case since the two-to-one can be adversarially constructed).\n",
    "2. This is still exponential."
   ]
  },
  {
   "cell_type": "markdown",
   "id": "b84b09b1",
   "metadata": {},
   "source": [
    "## Quantum Solution to Simon's Problem\n",
    "\n",
    "Let's introduce the algorithm before we code it up."
   ]
  },
  {
   "cell_type": "markdown",
   "id": "682b2be5",
   "metadata": {},
   "source": [
    "### Algorithm"
   ]
  },
  {
   "cell_type": "markdown",
   "id": "dd1aa96d",
   "metadata": {},
   "source": [
    "#### Step 1: Initialize\n",
    "\n",
    "Create the initial state\n",
    "$$\n",
    "|\\psi_0 \\rangle = |0\\rangle^{\\otimes n} \\otimes |0\\rangle^{\\otimes n}\n",
    "$$\n",
    "which is composed of two parts."
   ]
  },
  {
   "cell_type": "markdown",
   "id": "03c928e7",
   "metadata": {},
   "source": [
    "#### Step 2: Apply Hadamard to first n qubits\n",
    "\n",
    "Apply $H^{\\otimes n} = \\frac{1}{\\sqrt{2^n}} \\sum_{x \\in \\{0, 1\\}^n} \\sum_{y \\in \\{0, 1\\}^n}(-1)^{x \\cdot y} |x\\rangle\\langle y|$ to the first $n$ qubits.\n",
    "\n",
    "Thus\n",
    "\\begin{align*}\n",
    "|\\psi_1 \\rangle & = (I^{\\otimes n} \\otimes H^{\\otimes n}) |\\psi_0 \\rangle \\tag{Step 2} \\\\ \n",
    "& = |0\\rangle^{\\otimes n} \\otimes \\left( \\frac{1}{\\sqrt{2^n}} \\sum_{x \\in \\{0, 1\\}^n} \\sum_{y \\in \\{0, 1\\}^n}(-1)^{x \\cdot y} |x\\rangle\\langle y||0\\rangle^{\\otimes n} \\right) \\tag{definition $H^{\\otimes n}$ and linearity} \\\\\n",
    "& = |0\\rangle^{\\otimes n} \\otimes \\frac{1}{\\sqrt{2^n}} \\sum_{x \\in \\{0, 1\\}^n} (-1)^{x \\cdot |0\\rangle^{\\otimes n}}|x\\rangle \\tag{non-zero when $y = |0\\rangle^{\\otimes n}$} \\\\\n",
    "& = |0\\rangle^{\\otimes n} \\otimes \\frac{1}{\\sqrt{2^n}} \\sum_{x \\in \\{0, 1\\}^n} |x\\rangle \\tag{dot product is $0$} \\\\\n",
    "& = \\frac{1}{\\sqrt{2^n}} \\sum_{x \\in \\{0, 1\\}^n} |0^{\\otimes n}, x\\rangle \\tag{rearrange}\n",
    "\\end{align*}"
   ]
  },
  {
   "cell_type": "markdown",
   "id": "377d5726",
   "metadata": {},
   "source": [
    "#### Step 3: Apply Oracle\n",
    "\n",
    "Apply the oracle\n",
    "$$\n",
    "U_f|y, x\\rangle = U_f|y \\oplus f(x), x\\rangle \\,.\n",
    "$$\n",
    "\n",
    "Thus\n",
    "\\begin{align*}\n",
    "|\\psi_2\\rangle & = H^{\\otimes n} |\\psi_1\\rangle \\tag{Step 3} \\\\\n",
    "& = \\frac{1}{\\sqrt{2^n}} \\sum_{x \\in \\{0, 1\\}^n} U_f |0^{\\otimes n}, x\\rangle \\tag{definition $H^{\\otimes n}$ and linearity} \\\\\n",
    "& = \\frac{1}{\\sqrt{2^n}} \\sum_{x \\in \\{0, 1\\}^n} |0^{\\otimes n} \\oplus f(x), x\\rangle \\tag{apply oracle} \\\\\n",
    "& = \\frac{1}{\\sqrt{2^n}} \\sum_{x \\in \\{0, 1\\}^n} |f(x), x\\rangle \\tag{property of xor $\\oplus$} \\\\\n",
    "\\end{align*}"
   ]
  },
  {
   "cell_type": "markdown",
   "id": "d62eb1b1",
   "metadata": {},
   "source": [
    "#### Step 4: Measure second n qubits\n",
    "\n",
    "Measure the second half of $|\\psi_2\\rangle$ to obtain $f(x)$, which means either $x$ or $y = x \\oplus b$ could be the corresponding input.\n",
    "\n",
    "Therefore the first half of $|\\psi_2\\rangle$ becomes\n",
    "$$\n",
    "|\\psi_3\\rangle = \\frac{1}{\\sqrt{2}} (|x\\rangle + |y\\rangle)\n",
    "$$\n",
    "so that the entire quantum state is\n",
    "$$\n",
    "|f(x) \\rangle \\otimes |\\psi_3\\rangle \\,.\n",
    "$$"
   ]
  },
  {
   "cell_type": "markdown",
   "id": "ae12ebc6",
   "metadata": {},
   "source": [
    "#### Step 5: Apply  Hadamard to first n qubits\n",
    "\n",
    "Apply $H^{\\otimes n} = \\frac{1}{\\sqrt{2^n}} \\sum_{x \\in \\{0, 1\\}^n} \\sum_{y \\in \\{0, 1\\}^n}(-1)^{x \\cdot y} |x\\rangle\\langle y|$ to the first $n$ qubits, i.e., $|\\psi_3\\rangle$\n",
    "\n",
    "\\begin{align*}\n",
    "|\\psi_4\\rangle & = H^{\\otimes n} |\\psi_3\\rangle \\tag{Step 5} \\\\\n",
    "& = H^{\\otimes n} \\frac{1}{\\sqrt{2}} (|x\\rangle + |y\\rangle) \\tag{substitute $|\\psi_4\\rangle$} \\\\\n",
    "& = \\frac{1}{\\sqrt{2^{n+1}}} \\sum_{w \\in \\{0, 1\\}^n} \\sum_{z \\in \\{0, 1\\}^n}(-1)^{w \\cdot z} |w\\rangle\\langle z|(|x\\rangle + |y\\rangle) \\tag{definition H and linearity} \\\\\n",
    "& = \\frac{1}{\\sqrt{2^{n+1}}} \\sum_{w \\in \\{0, 1\\}^n} ((-1)^{w \\cdot x} + (-1)^{w \\cdot y}) |w\\rangle \\tag{dot product not zero when z = x or z = y} \\\\\n",
    "\\end{align*}"
   ]
  },
  {
   "cell_type": "markdown",
   "id": "0660bf2c",
   "metadata": {},
   "source": [
    "#### Step 6: Measure first n qubits\n",
    "\n",
    "Observe:\n",
    "1. $(-1)^{w \\cdot x} = (-1)^{w \\cdot y}$: contribution of corresponding $|a\\rangle$\n",
    "2. $(-1)^{w \\cdot x} \\neq (-1)^{w \\cdot y}$: no contribution of corresponding $|w\\rangle$\n",
    "\n",
    "Consequently, upon a single measurement, we will observe some $|w\\rangle$ s.t. $w \\cdot x = w \\cdot y$.\n",
    "This occurs\n",
    "\\begin{align*}\n",
    "w \\cdot x = a \\cdot y & \\iff w \\cdot x = w \\cdot (x \\oplus b) \\tag{substitute y} \\\\\n",
    "& \\iff w \\cdot x = (w \\cdot x) \\oplus (w \\cdot b) \\tag{property of xor $\\oplus$} \\\\\n",
    "& \\iff 0 = w \\cdot b \\,. \\tag{xor both sides by $(w \\cdot x)$} \\\\\n",
    "\\end{align*}\n",
    "\n",
    "Thus with $\\approx n$ queries, we obtain a system of linear equations\n",
    "\\begin{align*}\n",
    "w_1 \\cdot b & = 0 \\tag{measurement 1}\\\\\n",
    "\\vdots & = 0 \\\\\n",
    "w_n \\cdot b & = 0 \\tag{measurement n}\\\\\n",
    "\\end{align*}\n",
    "\n",
    "This can be solved in $O(n^3)$ time."
   ]
  },
  {
   "cell_type": "markdown",
   "id": "aafa6d6d",
   "metadata": {},
   "source": [
    "### Code"
   ]
  },
  {
   "cell_type": "code",
   "execution_count": 10,
   "id": "98778960",
   "metadata": {},
   "outputs": [],
   "source": [
    "# Source: https://github.com/qiskit-community/qiskit-textbook/blob/589c64d66c8743c123c9704d9b66cda4d476dbff/qiskit-textbook-src/qiskit_textbook/tools/__init__.py\n",
    "def simon_oracle(b):\n",
    "    \"\"\"returns a Simon oracle for bitstring b\"\"\"\n",
    "    b = b[::-1] # reverse b for easy iteration\n",
    "    n = len(b)\n",
    "    qc = QuantumCircuit(n*2)\n",
    "    # Do copy; |x>|0> -> |x>|x>\n",
    "    for q in range(n):\n",
    "        qc.cx(q, q+n)\n",
    "    if '1' not in b: \n",
    "        return qc  # 1:1 mapping, so just exit\n",
    "    i = b.find('1') # index of first non-zero bit in b\n",
    "    # Do |x> -> |s.x> on condition that q_i is 1\n",
    "    for q in range(n):\n",
    "        if b[q] == '1':\n",
    "            qc.cx(i, (q)+n)\n",
    "    return qc "
   ]
  },
  {
   "cell_type": "code",
   "execution_count": 11,
   "id": "9654c950",
   "metadata": {},
   "outputs": [
    {
     "data": {
      "text/html": [
       "<pre style=\"word-wrap: normal;white-space: pre;background: #fff0;line-height: 1.1;font-family: &quot;Courier New&quot;,Courier,monospace\">     ┌───┐ ░                      ░ ┌───┐┌─┐   \n",
       "q_0: ┤ H ├─░───■─────────■────■───░─┤ H ├┤M├───\n",
       "     ├───┤ ░   │         │    │   ░ ├───┤└╥┘┌─┐\n",
       "q_1: ┤ H ├─░───┼────■────┼────┼───░─┤ H ├─╫─┤M├\n",
       "     └───┘ ░ ┌─┴─┐  │  ┌─┴─┐  │   ░ └───┘ ║ └╥┘\n",
       "q_2: ──────░─┤ X ├──┼──┤ X ├──┼───░───────╫──╫─\n",
       "           ░ └───┘┌─┴─┐└───┘┌─┴─┐ ░       ║  ║ \n",
       "q_3: ──────░──────┤ X ├─────┤ X ├─░───────╫──╫─\n",
       "           ░      └───┘     └───┘ ░       ║  ║ \n",
       "c: 2/═════════════════════════════════════╩══╩═\n",
       "                                          0  1 </pre>"
      ],
      "text/plain": [
       "     ┌───┐ ░                      ░ ┌───┐┌─┐   \n",
       "q_0: ┤ H ├─░───■─────────■────■───░─┤ H ├┤M├───\n",
       "     ├───┤ ░   │         │    │   ░ ├───┤└╥┘┌─┐\n",
       "q_1: ┤ H ├─░───┼────■────┼────┼───░─┤ H ├─╫─┤M├\n",
       "     └───┘ ░ ┌─┴─┐  │  ┌─┴─┐  │   ░ └───┘ ║ └╥┘\n",
       "q_2: ──────░─┤ X ├──┼──┤ X ├──┼───░───────╫──╫─\n",
       "           ░ └───┘┌─┴─┐└───┘┌─┴─┐ ░       ║  ║ \n",
       "q_3: ──────░──────┤ X ├─────┤ X ├─░───────╫──╫─\n",
       "           ░      └───┘     └───┘ ░       ║  ║ \n",
       "c: 2/═════════════════════════════════════╩══╩═\n",
       "                                          0  1 "
      ]
     },
     "execution_count": 11,
     "metadata": {},
     "output_type": "execute_result"
    }
   ],
   "source": [
    "b = '11'\n",
    "n = len(b)\n",
    "oracle = simon_oracle(b)\n",
    "\n",
    "# Step 1: Initialize to all 0s\n",
    "simon_circuit = QuantumCircuit(n*2, n)\n",
    "\n",
    "# Step 2: Apply Hadamard gates to first n qubits\n",
    "simon_circuit.h(range(n))    \n",
    "\n",
    "# Step 3: Query Oracle\n",
    "simon_circuit.barrier()\n",
    "simon_circuit = simon_circuit.compose(oracle)\n",
    "simon_circuit.barrier()\n",
    "\n",
    "# Step 4': Can only measure in qiskit at the end, but these results are ignored\n",
    "\n",
    "# Step 5: Apply Hadamard gates to first n qubits\n",
    "simon_circuit.h(range(n))\n",
    "\n",
    "# Step 6: Measure first n qubits\n",
    "simon_circuit.measure(range(n), range(n))\n",
    "simon_circuit.draw()"
   ]
  },
  {
   "cell_type": "code",
   "execution_count": 12,
   "id": "f25f2bf0",
   "metadata": {},
   "outputs": [
    {
     "data": {
      "image/png": "[encoded data removed]",
      "text/plain": [
       "<Figure size 504x360 with 1 Axes>"
      ]
     },
     "execution_count": 12,
     "metadata": {},
     "output_type": "execute_result"
    }
   ],
   "source": [
    "aer_sim = Aer.get_backend('aer_simulator')\n",
    "shots = 1024\n",
    "qobj = assemble(simon_circuit, shots=shots)\n",
    "results = aer_sim.run(qobj).result()\n",
    "counts = results.get_counts()\n",
    "plot_histogram(counts)"
   ]
  },
  {
   "cell_type": "code",
   "execution_count": 13,
   "id": "c92873ec",
   "metadata": {},
   "outputs": [
    {
     "name": "stdout",
     "output_type": "stream",
     "text": [
      "11.11 = 0 (mod 2)\n",
      "11.00 = 0 (mod 2)\n"
     ]
    }
   ],
   "source": [
    "# Source: https://qiskit.org/textbook/ch-algorithms/simon.html\n",
    "\n",
    "# Calculate the dot product of the results\n",
    "def bdotz(b, z):\n",
    "    accum = 0\n",
    "    for i in range(len(b)):\n",
    "        accum += int(b[i]) * int(z[i])\n",
    "    return (accum % 2)\n",
    "\n",
    "for z in counts:\n",
    "    print( '{}.{} = {} (mod 2)'.format(b, z, bdotz(b,z)) )"
   ]
  },
  {
   "cell_type": "markdown",
   "id": "df873836",
   "metadata": {},
   "source": [
    "## Summary\n",
    "\n",
    "1. The classical algorithm for solving Simon's problem requires an exponential number of queries.\n",
    "2. The quantum algorithm for solving Simon's problem requires just a single query.\n",
    "3. Simon's algorithm is contrived. Nevertheless, it inspired Shor's algorithm, which is useful."
   ]
  },
  {
   "cell_type": "code",
   "execution_count": null,
   "id": "94e8790e",
   "metadata": {},
   "outputs": [],
   "source": []
  }
 ],
 "metadata": {
  "kernelspec": {
   "display_name": "Python 3 (ipykernel)",
   "language": "python",
   "name": "python3"
  },
  "language_info": {
   "codemirror_mode": {
    "name": "ipython",
    "version": 3
   },
   "file_extension": ".py",
   "mimetype": "text/x-python",
   "name": "python",
   "nbconvert_exporter": "python",
   "pygments_lexer": "ipython3",
   "version": "3.9.6"
  }
 },
 "nbformat": 4,
 "nbformat_minor": 5
}
